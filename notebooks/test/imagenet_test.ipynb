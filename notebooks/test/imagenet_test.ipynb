{
 "cells": [
  {
   "cell_type": "code",
   "execution_count": null,
   "metadata": {},
   "outputs": [],
   "source": [
    "%load_ext autoreload\n",
    "%autoreload 2"
   ]
  },
  {
   "cell_type": "code",
   "execution_count": null,
   "metadata": {},
   "outputs": [],
   "source": [
    "import sys\n",
    "import os\n",
    "\n",
    "# Add the parent directory to the Python path\n",
    "script_dir = os.path.dirname(os.getcwd())  # Get the directory where the script is located\n",
    "parent_dir = os.path.dirname(script_dir)  # Get the parent directory\n",
    "\n",
    "print(f\"{script_dir = }\")\n",
    "print(f\"{parent_dir = }\")\n",
    "\n",
    "sys.path.append(parent_dir)"
   ]
  },
  {
   "cell_type": "code",
   "execution_count": null,
   "metadata": {},
   "outputs": [],
   "source": [
    "from torchvision import transforms as transform_lib\n",
    "\n",
    "\n",
    "from datasets.ImageNet import ImageNet"
   ]
  },
  {
   "cell_type": "code",
   "execution_count": null,
   "metadata": {},
   "outputs": [],
   "source": [
    "def train_transform(image_size:int = 224):\n",
    "    \"\"\"\n",
    "    The standard imagenet transforms\n",
    "    \"\"\"\n",
    "    preprocessing = transform_lib.Compose(\n",
    "        [\n",
    "            transform_lib.RandomResizedCrop(image_size),\n",
    "            transform_lib.RandomHorizontalFlip(),\n",
    "            transform_lib.ToTensor(),\n",
    "            # imagenet_normalization(), # model does it's own normalization!\n",
    "        ]\n",
    "    )\n",
    "\n",
    "    return preprocessing"
   ]
  },
  {
   "cell_type": "code",
   "execution_count": null,
   "metadata": {},
   "outputs": [],
   "source": [
    "root = \"/home/soroush1/projects/def-kohitij/soroush1/idiosyncrasy/imagenet\"\n",
    "type_ = \"train\"\n",
    "\n",
    "dataset = ImageNet(\n",
    "            root=root,\n",
    "            split=type_,\n",
    "            temp_extract=True,  # hparams.temp_extract, # True\n",
    "            # dst_meta_path=self.meta_dir,\n",
    "            transform=train_transform(),\n",
    "        )"
   ]
  },
  {
   "cell_type": "code",
   "execution_count": null,
   "metadata": {},
   "outputs": [],
   "source": [
    "root = \"/home/soroush1/projects/def-kohitij/soroush1/idiosyncrasy/imagenet\"\n",
    "type_ = \"val\"\n",
    "\n",
    "dataset = ImageNet(\n",
    "            root=root,\n",
    "            split=type_,\n",
    "            temp_extract=True,  # hparams.temp_extract, # True\n",
    "            # dst_meta_path=self.meta_dir,\n",
    "            transform=train_transform(),\n",
    "        )"
   ]
  }
 ],
 "metadata": {
  "kernelspec": {
   "display_name": "Python 3 (ipykernel)",
   "language": "python",
   "name": "python3"
  },
  "language_info": {
   "codemirror_mode": {
    "name": "ipython",
    "version": 3
   },
   "file_extension": ".py",
   "mimetype": "text/x-python",
   "name": "python",
   "nbconvert_exporter": "python",
   "pygments_lexer": "ipython3",
   "version": "3.11.5"
  }
 },
 "nbformat": 4,
 "nbformat_minor": 4
}
