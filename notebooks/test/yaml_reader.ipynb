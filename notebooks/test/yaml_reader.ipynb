{
 "cells": [
  {
   "cell_type": "code",
   "execution_count": 1,
   "id": "3fb57b65-cc78-4b15-be91-b29ab745571a",
   "metadata": {},
   "outputs": [],
   "source": [
    "import yaml\n",
    "\n",
    "\n",
    "def load_config(config_path):\n",
    "    with open(config_path, \"r\") as file:\n",
    "        config = yaml.safe_load(file)\n",
    "    return config"
   ]
  },
  {
   "cell_type": "code",
   "execution_count": 4,
   "id": "308c048d-de3d-4ab1-a4ee-5cfdaf4afb83",
   "metadata": {},
   "outputs": [
    {
     "data": {
      "text/plain": [
       "{'accelerator': 'auto',\n",
       " 'arch': 'alexnet',\n",
       " 'batch_size': 32,\n",
       " 'data_dir': '/home/soroush1/projects/def-kohitij/soroush1/idiosyncrasy/imagenet',\n",
       " 'devices': 'auto',\n",
       " 'experiment': 'one',\n",
       " 'fast_dev_run': False,\n",
       " 'image_size': 224,\n",
       " 'limit_train_batches': 20,\n",
       " 'limit_val_batches': 10,\n",
       " 'log_dir': 'experiments',\n",
       " 'log_every_n_steps': 1,\n",
       " 'lr': 0.01,\n",
       " 'lr_gamma': 0.1,\n",
       " 'max_epochs': 90,\n",
       " 'momentum': 0.9,\n",
       " 'nesterov': True,\n",
       " 'norm_mean': [0.485, 0.456, 0.406],\n",
       " 'norm_std': [0.229, 0.224, 0.225],\n",
       " 'num_classes': 1000,\n",
       " 'num_nodes': 1,\n",
       " 'num_workers': 4,\n",
       " 'optimizer': 'sgd',\n",
       " 'pin_memories': [False, False, False],\n",
       " 'pretrained': False,\n",
       " 'scheduler': 'step',\n",
       " 'step_size': 30,\n",
       " 'strategy': 'auto',\n",
       " 'sync_batchnorm': True,\n",
       " 'task_type': 'classification',\n",
       " 'temp_extract': True,\n",
       " 'use_blurpool': False,\n",
       " 'weight_decay': 0.0001}"
      ]
     },
     "execution_count": 4,
     "metadata": {},
     "output_type": "execute_result"
    }
   ],
   "source": [
    "load_config(\"../../config/clf/alexnet_config.yaml\")"
   ]
  }
 ],
 "metadata": {
  "kernelspec": {
   "display_name": "Python 3 (ipykernel)",
   "language": "python",
   "name": "python3"
  },
  "language_info": {
   "codemirror_mode": {
    "name": "ipython",
    "version": 3
   },
   "file_extension": ".py",
   "mimetype": "text/x-python",
   "name": "python",
   "nbconvert_exporter": "python",
   "pygments_lexer": "ipython3",
   "version": "3.11.5"
  }
 },
 "nbformat": 4,
 "nbformat_minor": 5
}
