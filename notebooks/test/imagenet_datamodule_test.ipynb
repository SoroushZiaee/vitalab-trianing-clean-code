{
 "cells": [
  {
   "cell_type": "code",
   "execution_count": 1,
   "id": "8c8686e5-e9f9-485e-a150-a7ac9e677dcd",
   "metadata": {},
   "outputs": [],
   "source": [
    "%load_ext autoreload\n",
    "%autoreload 2"
   ]
  },
  {
   "cell_type": "code",
   "execution_count": 2,
   "id": "91e9af7f-1e2a-4f8e-aff9-fffe98de0ca0",
   "metadata": {},
   "outputs": [
    {
     "name": "stdout",
     "output_type": "stream",
     "text": [
      "script_dir = '/lustre06/project/6067616/soroush1/vitalab-trianing-clean-code/notebooks'\n",
      "parent_dir = '/lustre06/project/6067616/soroush1/vitalab-trianing-clean-code'\n"
     ]
    }
   ],
   "source": [
    "import sys\n",
    "import os\n",
    "\n",
    "# Add the parent directory to the Python path\n",
    "script_dir = os.path.dirname(os.getcwd())  # Get the directory where the script is located\n",
    "parent_dir = os.path.dirname(script_dir)  # Get the parent directory\n",
    "\n",
    "print(f\"{script_dir = }\")\n",
    "print(f\"{parent_dir = }\")\n",
    "\n",
    "sys.path.append(parent_dir)"
   ]
  },
  {
   "cell_type": "code",
   "execution_count": 3,
   "id": "9621d333-a126-4b29-a40b-4fd2c5d7c676",
   "metadata": {},
   "outputs": [
    {
     "name": "stderr",
     "output_type": "stream",
     "text": [
      "2024-08-22 14:20:49,683 - INFO - ImageNet module loaded.\n",
      "2024-08-22 14:20:50,002 - WARNING - Note: 00050591.jpg is removed because it can't be loaded in ffcv.\n"
     ]
    }
   ],
   "source": [
    "from lit_modules.datamodule import ImageNetDataModule\n",
    "from argparse import Namespace\n",
    "\n",
    "import lightning as L"
   ]
  },
  {
   "cell_type": "code",
   "execution_count": 4,
   "id": "51cf6482-04fd-4435-b1ac-c4a7d660514d",
   "metadata": {},
   "outputs": [
    {
     "name": "stderr",
     "output_type": "stream",
     "text": [
      "2024-08-22 14:20:52,805 - INFO - Initializing ImageNet dataset with root: /home/soroush1/projects/def-kohitij/soroush1/idiosyncrasy/imagenet, split: train, temp_extract: True\n",
      "2024-08-22 14:20:52,806 - INFO - Using temporary directory for extraction: /localscratch/soroush1.33912950.0/tmpxzvbnzmy\n",
      "2024-08-22 14:20:52,806 - INFO - Parsing archives...\n",
      "2024-08-22 14:20:52,806 - INFO - Checking for metadata file...\n",
      "2024-08-22 14:20:52,807 - INFO - Parsing devkit archive...\n",
      "2024-08-22 14:20:52,930 - INFO - Extracting devkit archive to temporary directory: /tmp/tmpiczb64yd\n"
     ]
    },
    {
     "name": "stdout",
     "output_type": "stream",
     "text": [
      "ImageNet data not found. Please download the dataset manually.\n",
      "self.temp_extract: True\n"
     ]
    },
    {
     "name": "stderr",
     "output_type": "stream",
     "text": [
      "2024-08-22 14:20:53,045 - INFO - Parsing meta.mat file...\n",
      "2024-08-22 14:20:53,098 - INFO - Parsing validation ground truth...\n",
      "2024-08-22 14:20:53,107 - INFO - Saving parsed metadata...\n",
      "2024-08-22 14:20:53,366 - INFO - Checking for train folder...\n",
      "2024-08-22 14:20:53,367 - INFO - Parsing train archive...\n",
      "2024-08-22 14:20:53,367 - INFO - Parsing train archive...\n",
      "2024-08-22 14:20:53,367 - INFO - Verifying archive: ILSVRC2012_img_train.tar\n",
      "2024-08-22 14:20:53,368 - INFO - Checking integrity of file: /home/soroush1/projects/def-kohitij/soroush1/idiosyncrasy/imagenet/ILSVRC2012_img_train.tar\n",
      "2024-08-22 14:20:53,424 - INFO - Checking MD5 for file: /home/soroush1/projects/def-kohitij/soroush1/idiosyncrasy/imagenet/ILSVRC2012_img_train.tar\n",
      "2024-08-22 14:20:53,425 - INFO - Calculating MD5 for file: /home/soroush1/projects/def-kohitij/soroush1/idiosyncrasy/imagenet/ILSVRC2012_img_train.tar\n",
      "Calculating MD5: 141047it [03:43, 630.49it/s]\n",
      "2024-08-22 14:24:37,138 - INFO - Archive verification successful.\n",
      "2024-08-22 14:24:37,138 - INFO - Extracting train archive to: /localscratch/soroush1.33912950.0/tmpxzvbnzmy/train\n",
      "2024-08-22 14:25:41,665 - INFO - Extracting individual synset archives...\n",
      "Extracting synset archives: 10it [00:04,  2.27it/s]2024-08-22 14:25:46,514 - INFO - Reach to 10 synset archives.\n",
      "Extracting synset archives: 10it [00:04,  2.06it/s]\n",
      "2024-08-22 14:25:46,515 - INFO - Loading metadata...\n",
      "2024-08-22 14:25:46,516 - INFO - Loading metadata file...\n",
      "2024-08-22 14:25:46,516 - INFO - Checking integrity of file: /home/soroush1/projects/def-kohitij/soroush1/idiosyncrasy/imagenet/meta.bin\n",
      "2024-08-22 14:25:46,517 - INFO - No MD5 provided, skipping checksum verification.\n",
      "2024-08-22 14:25:46,517 - INFO - Metadata file found and integrity verified.\n",
      "2024-08-22 14:25:46,526 - INFO - Initializing ImageFolder...\n",
      "2024-08-22 14:25:46,557 - INFO - Setting up class information...\n",
      "2024-08-22 14:25:46,557 - INFO - ImageNet initialization complete.\n",
      "2024-08-22 14:25:46,558 - INFO - Initializing ImageNet dataset with root: /home/soroush1/projects/def-kohitij/soroush1/idiosyncrasy/imagenet, split: val, temp_extract: True\n",
      "2024-08-22 14:25:46,559 - INFO - Using temporary directory for extraction: /localscratch/soroush1.33912950.0/tmpsmvxp63z\n",
      "2024-08-22 14:25:46,559 - INFO - Parsing archives...\n",
      "2024-08-22 14:25:46,559 - INFO - Checking for metadata file...\n",
      "2024-08-22 14:25:46,559 - INFO - Parsing devkit archive...\n",
      "2024-08-22 14:25:46,560 - INFO - Extracting devkit archive to temporary directory: /tmp/tmpu3cimm7f\n",
      "2024-08-22 14:25:46,606 - INFO - Parsing meta.mat file...\n",
      "2024-08-22 14:25:46,660 - INFO - Parsing validation ground truth...\n",
      "2024-08-22 14:25:46,669 - INFO - Saving parsed metadata...\n",
      "2024-08-22 14:25:46,756 - INFO - Checking for val folder...\n",
      "2024-08-22 14:25:46,756 - INFO - Parsing validation archive...\n",
      "2024-08-22 14:25:46,757 - INFO - Parsing validation archive...\n",
      "2024-08-22 14:25:46,757 - INFO - Loading metadata file...\n",
      "2024-08-22 14:25:46,757 - INFO - Checking integrity of file: /home/soroush1/projects/def-kohitij/soroush1/idiosyncrasy/imagenet/meta.bin\n",
      "2024-08-22 14:25:46,758 - INFO - No MD5 provided, skipping checksum verification.\n",
      "2024-08-22 14:25:46,758 - INFO - Metadata file found and integrity verified.\n"
     ]
    },
    {
     "name": "stdout",
     "output_type": "stream",
     "text": [
      "self.temp_extract: True\n"
     ]
    },
    {
     "name": "stderr",
     "output_type": "stream",
     "text": [
      "2024-08-22 14:25:46,763 - INFO - Verifying archive: ILSVRC2012_img_val.tar\n",
      "2024-08-22 14:25:46,763 - INFO - Checking integrity of file: /home/soroush1/projects/def-kohitij/soroush1/idiosyncrasy/imagenet/ILSVRC2012_img_val.tar\n",
      "2024-08-22 14:25:46,845 - INFO - Checking MD5 for file: /home/soroush1/projects/def-kohitij/soroush1/idiosyncrasy/imagenet/ILSVRC2012_img_val.tar\n",
      "2024-08-22 14:25:46,846 - INFO - Calculating MD5 for file: /home/soroush1/projects/def-kohitij/soroush1/idiosyncrasy/imagenet/ILSVRC2012_img_val.tar\n",
      "Calculating MD5: 6433it [00:11, 573.91it/s]\n",
      "2024-08-22 14:25:58,057 - INFO - Archive verification successful.\n",
      "2024-08-22 14:25:58,058 - INFO - Extracting validation archive to: /localscratch/soroush1.33912950.0/tmpsmvxp63z/val\n",
      "2024-08-22 14:26:17,150 - INFO - Creating synset folders for validation images...\n",
      "Creating synset folders: 100%|██████████| 1000/1000 [00:00<00:00, 5625.82it/s]\n",
      "2024-08-22 14:26:17,331 - INFO - Moving validation images to their respective synset folders...\n",
      "Moving validation images: 50000it [00:06, 8273.55it/s]\n",
      "2024-08-22 14:26:23,377 - INFO - Loading metadata...\n",
      "2024-08-22 14:26:23,377 - INFO - Loading metadata file...\n",
      "2024-08-22 14:26:23,378 - INFO - Checking integrity of file: /home/soroush1/projects/def-kohitij/soroush1/idiosyncrasy/imagenet/meta.bin\n",
      "2024-08-22 14:26:23,378 - INFO - No MD5 provided, skipping checksum verification.\n",
      "2024-08-22 14:26:23,378 - INFO - Metadata file found and integrity verified.\n",
      "2024-08-22 14:26:23,386 - INFO - Initializing ImageFolder...\n",
      "2024-08-22 14:26:23,558 - INFO - Setting up class information...\n",
      "2024-08-22 14:26:23,558 - INFO - ImageNet initialization complete.\n",
      "2024-08-22 14:26:23,559 - INFO - Initializing ImageNet dataset with root: /home/soroush1/projects/def-kohitij/soroush1/idiosyncrasy/imagenet, split: val, temp_extract: True\n",
      "2024-08-22 14:26:23,560 - INFO - Using temporary directory for extraction: /localscratch/soroush1.33912950.0/tmpolr_jrlz\n",
      "2024-08-22 14:26:23,560 - INFO - Parsing archives...\n",
      "2024-08-22 14:26:23,560 - INFO - Checking for metadata file...\n",
      "2024-08-22 14:26:23,560 - INFO - Parsing devkit archive...\n",
      "2024-08-22 14:26:23,561 - INFO - Extracting devkit archive to temporary directory: /tmp/tmpaozf0atq\n",
      "2024-08-22 14:26:23,619 - INFO - Parsing meta.mat file...\n",
      "2024-08-22 14:26:23,672 - INFO - Parsing validation ground truth...\n",
      "2024-08-22 14:26:23,681 - INFO - Saving parsed metadata...\n",
      "2024-08-22 14:26:23,695 - INFO - Checking for val folder...\n",
      "2024-08-22 14:26:23,695 - INFO - Parsing validation archive...\n",
      "2024-08-22 14:26:23,696 - INFO - Parsing validation archive...\n",
      "2024-08-22 14:26:23,696 - INFO - Loading metadata file...\n",
      "2024-08-22 14:26:23,696 - INFO - Checking integrity of file: /home/soroush1/projects/def-kohitij/soroush1/idiosyncrasy/imagenet/meta.bin\n",
      "2024-08-22 14:26:23,697 - INFO - No MD5 provided, skipping checksum verification.\n",
      "2024-08-22 14:26:23,697 - INFO - Metadata file found and integrity verified.\n",
      "2024-08-22 14:26:23,702 - INFO - Verifying archive: ILSVRC2012_img_val.tar\n",
      "2024-08-22 14:26:23,702 - INFO - Checking integrity of file: /home/soroush1/projects/def-kohitij/soroush1/idiosyncrasy/imagenet/ILSVRC2012_img_val.tar\n",
      "2024-08-22 14:26:23,702 - INFO - Checking MD5 for file: /home/soroush1/projects/def-kohitij/soroush1/idiosyncrasy/imagenet/ILSVRC2012_img_val.tar\n",
      "2024-08-22 14:26:23,703 - INFO - Calculating MD5 for file: /home/soroush1/projects/def-kohitij/soroush1/idiosyncrasy/imagenet/ILSVRC2012_img_val.tar\n"
     ]
    },
    {
     "name": "stdout",
     "output_type": "stream",
     "text": [
      "self.temp_extract: True\n"
     ]
    },
    {
     "name": "stderr",
     "output_type": "stream",
     "text": [
      "Calculating MD5: 6433it [00:10, 636.27it/s]\n",
      "2024-08-22 14:26:33,814 - INFO - Archive verification successful.\n",
      "2024-08-22 14:26:33,815 - INFO - Extracting validation archive to: /localscratch/soroush1.33912950.0/tmpolr_jrlz/val\n",
      "2024-08-22 14:26:51,401 - INFO - Creating synset folders for validation images...\n",
      "Creating synset folders: 100%|██████████| 1000/1000 [00:00<00:00, 5552.98it/s]\n",
      "2024-08-22 14:26:51,584 - INFO - Moving validation images to their respective synset folders...\n",
      "Moving validation images: 50000it [00:06, 8212.06it/s]\n",
      "2024-08-22 14:26:57,676 - INFO - Loading metadata...\n",
      "2024-08-22 14:26:57,677 - INFO - Loading metadata file...\n",
      "2024-08-22 14:26:57,677 - INFO - Checking integrity of file: /home/soroush1/projects/def-kohitij/soroush1/idiosyncrasy/imagenet/meta.bin\n",
      "2024-08-22 14:26:57,677 - INFO - No MD5 provided, skipping checksum verification.\n",
      "2024-08-22 14:26:57,678 - INFO - Metadata file found and integrity verified.\n",
      "2024-08-22 14:26:57,683 - INFO - Initializing ImageFolder...\n",
      "2024-08-22 14:26:57,856 - INFO - Setting up class information...\n",
      "2024-08-22 14:26:57,856 - INFO - ImageNet initialization complete.\n"
     ]
    },
    {
     "name": "stdout",
     "output_type": "stream",
     "text": [
      "Train dataset size: 14162\n",
      "Validation dataset size: 50000\n",
      "Train dataset size: 14162\n",
      "Validation dataset size: 50000\n"
     ]
    }
   ],
   "source": [
    "# Define hyperparameters\n",
    "hparams = Namespace(\n",
    "    data_dir=\"/home/soroush1/projects/def-kohitij/soroush1/idiosyncrasy/imagenet\",\n",
    "    image_size=224,\n",
    "    batch_size=32,\n",
    "    num_workers=4,\n",
    "    temp_extract=True,\n",
    "    pin_memories=[False, False, False],  # [train, val, test]\n",
    ")\n",
    "\n",
    "# Create the DataModule\n",
    "data_module = ImageNetDataModule(hparams)\n",
    "\n",
    "# Prepare data and setup\n",
    "data_module.prepare_data()\n",
    "data_module.setup()\n",
    "\n",
    "# Print dataset sizes\n",
    "print(f\"Train dataset size: {len(data_module.train_dataset)}\")\n",
    "print(f\"Validation dataset size: {len(data_module.val_dataset)}\")"
   ]
  },
  {
   "cell_type": "code",
   "execution_count": 15,
   "id": "1efac761-0dfe-4a88-a2f2-6c5e1086ce3d",
   "metadata": {},
   "outputs": [],
   "source": [
    "dl = data_module.train_dataloader()\n",
    "val_dl = data_module.val_dataloader()"
   ]
  },
  {
   "cell_type": "code",
   "execution_count": 6,
   "id": "a37676f8-09ef-49f7-a32c-f738c18c2168",
   "metadata": {},
   "outputs": [],
   "source": [
    "temp = next(iter(dl))"
   ]
  },
  {
   "cell_type": "code",
   "execution_count": 7,
   "id": "583fcb2f-7514-42ba-b2de-c6cf2e67a651",
   "metadata": {},
   "outputs": [
    {
     "data": {
      "text/plain": [
       "torch.Size([32, 3, 224, 224])"
      ]
     },
     "execution_count": 7,
     "metadata": {},
     "output_type": "execute_result"
    }
   ],
   "source": [
    "temp[0].size()"
   ]
  },
  {
   "cell_type": "code",
   "execution_count": 8,
   "id": "f2cc550e-9301-4386-b194-29f98f79965f",
   "metadata": {},
   "outputs": [
    {
     "data": {
      "text/plain": [
       "tensor([ 3,  8,  4,  8,  0,  7, 10,  4,  4,  6,  0,  3,  7,  1,  9,  9, 10,  7,\n",
       "         0,  6, 10, 10,  1,  6,  2,  2,  8,  1,  2,  2,  6,  5])"
      ]
     },
     "execution_count": 8,
     "metadata": {},
     "output_type": "execute_result"
    }
   ],
   "source": [
    "temp[1]"
   ]
  },
  {
   "cell_type": "code",
   "execution_count": 9,
   "id": "17def3f8-3423-4e71-83b0-a54b30b17331",
   "metadata": {},
   "outputs": [],
   "source": [
    "from lit_modules.modules import ModelLightning"
   ]
  },
  {
   "cell_type": "code",
   "execution_count": 10,
   "id": "99614645-fc6a-472e-aa58-0f37b93a3c81",
   "metadata": {},
   "outputs": [],
   "source": [
    "# Define hyperparameters for the model\n",
    "num_classes = 1000\n",
    "task_type = \"classification\"\n",
    "\n",
    "\n",
    "\n",
    "model_hparams = {\n",
    "    \"arch\": \"alexnet\",\n",
    "    \"use_blurpool\": True,\n",
    "    \"pretrained\": False,\n",
    "    \"num_classes\": num_classes,\n",
    "    \"lr\": 0.0001,\n",
    "    \"weight_decay\": 1e-4,\n",
    "    \"momentum\": 0.9,\n",
    "    \"nesterov\": True,\n",
    "    \"norm_mean\": [0.485, 0.456, 0.406],\n",
    "    \"norm_std\": [0.229, 0.224, 0.225],\n",
    "    \"task_type\": task_type,\n",
    "    \"experiment\": \"one\",\n",
    "    \"optimizer\": \"sgd\",\n",
    "    \"scheduler\": \"plateau\",\n",
    "    \"step_size\": 30,\n",
    "    \"max_epochs\": 100,\n",
    "}"
   ]
  },
  {
   "cell_type": "code",
   "execution_count": 11,
   "id": "358e3161-1d03-49a2-a75d-aa1ce109ddb7",
   "metadata": {},
   "outputs": [
    {
     "name": "stderr",
     "output_type": "stream",
     "text": [
      "2024-08-22 14:43:31,291 - INFO - Creating model with architecture: alexnet\n",
      "2024-08-22 14:43:31,291 - INFO - Pretrained: False\n",
      "2024-08-22 14:43:31,578 - INFO - Modifying model for classification task\n",
      "2024-08-22 14:43:31,599 - INFO - Applying BlurPool to the model\n",
      "2024-08-22 14:43:31,600 - INFO - Model creation completed\n",
      "2024-08-22 14:43:31,600 - INFO - Model architecture: alexnet\n"
     ]
    },
    {
     "name": "stdout",
     "output_type": "stream",
     "text": [
      "Set up components for classification task.\n"
     ]
    }
   ],
   "source": [
    "model = ModelLightning(model_hparams)"
   ]
  },
  {
   "cell_type": "code",
   "execution_count": 12,
   "id": "68d03b51-e626-4e9a-a3ee-2ac87a1f2388",
   "metadata": {},
   "outputs": [],
   "source": [
    "output = model(temp[0])"
   ]
  },
  {
   "cell_type": "code",
   "execution_count": 13,
   "id": "9a1e68ec-8ca4-4c7f-90df-df91678a75fc",
   "metadata": {},
   "outputs": [
    {
     "name": "stderr",
     "output_type": "stream",
     "text": [
      "INFO: Trainer will use only 1 of 2 GPUs because it is running inside an interactive / notebook environment. You may try to set `Trainer(devices=2)` but please note that multi-GPU inside interactive / notebook environments is considered experimental and unstable. Your mileage may vary.\n",
      "2024-08-22 14:43:40,617 - INFO - Trainer will use only 1 of 2 GPUs because it is running inside an interactive / notebook environment. You may try to set `Trainer(devices=2)` but please note that multi-GPU inside interactive / notebook environments is considered experimental and unstable. Your mileage may vary.\n",
      "/localscratch/soroush1.33912950.0/env/lib/python3.11/site-packages/lightning/fabric/plugins/environments/slurm.py:204: The `srun` command is available on your system but is not used. HINT: If your intention is to run Lightning on SLURM, prepend your python command with `srun` like so: srun python /localscratch/soroush1.33912950.0/env/lib/python3.11 ...\n",
      "INFO: GPU available: True (cuda), used: True\n",
      "2024-08-22 14:43:40,673 - INFO - GPU available: True (cuda), used: True\n",
      "INFO: TPU available: False, using: 0 TPU cores\n",
      "2024-08-22 14:43:40,673 - INFO - TPU available: False, using: 0 TPU cores\n",
      "INFO: IPU available: False, using: 0 IPUs\n",
      "2024-08-22 14:43:40,674 - INFO - IPU available: False, using: 0 IPUs\n",
      "INFO: HPU available: False, using: 0 HPUs\n",
      "2024-08-22 14:43:40,674 - INFO - HPU available: False, using: 0 HPUs\n"
     ]
    }
   ],
   "source": [
    "trainer = L.Trainer(\n",
    "        max_epochs=90,\n",
    "        limit_train_batches=20,\n",
    "        limit_val_batches=10,\n",
    "        # logger=logger,\n",
    "        log_every_n_steps=1,\n",
    "        accelerator=\"auto\",\n",
    "        strategy=\"auto\",\n",
    "        # strategy=\"ddp_find_unused_parameters_true\",  # Inception_v3 requires this\n",
    "        devices=\"auto\",\n",
    "        fast_dev_run=False,\n",
    "    )"
   ]
  },
  {
   "cell_type": "code",
   "execution_count": 16,
   "id": "e99fe56e-7540-44fb-9f5d-ee5ee1498083",
   "metadata": {},
   "outputs": [
    {
     "name": "stderr",
     "output_type": "stream",
     "text": [
      "/localscratch/soroush1.33912950.0/env/lib/python3.11/site-packages/lightning/fabric/plugins/environments/slurm.py:204: The `srun` command is available on your system but is not used. HINT: If your intention is to run Lightning on SLURM, prepend your python command with `srun` like so: srun python /localscratch/soroush1.33912950.0/env/lib/python3.11 ...\n",
      "/localscratch/soroush1.33912950.0/env/lib/python3.11/site-packages/lightning/pytorch/callbacks/model_checkpoint.py:652: Checkpoint directory /lustre06/project/6067616/soroush1/vitalab-trianing-clean-code/notebooks/test/lightning_logs/version_33912950/checkpoints exists and is not empty.\n",
      "INFO: LOCAL_RANK: 0 - CUDA_VISIBLE_DEVICES: [0,1]\n",
      "2024-08-22 14:57:19,392 - INFO - LOCAL_RANK: 0 - CUDA_VISIBLE_DEVICES: [0,1]\n",
      "INFO: \n",
      "  | Name                     | Type               | Params | In sizes         | Out sizes\n",
      "-----------------------------------------------------------------------------------------------\n",
      "0 | model                    | AlexNet            | 61.1 M | [1, 3, 224, 224] | [1, 1000]\n",
      "1 | classification_criterion | CrossEntropyLoss   | 0      | ?                | ?        \n",
      "2 | accuracy                 | MulticlassAccuracy | 0      | ?                | ?        \n",
      "-----------------------------------------------------------------------------------------------\n",
      "61.1 M    Trainable params\n",
      "0         Non-trainable params\n",
      "61.1 M    Total params\n",
      "244.403   Total estimated model params size (MB)\n",
      "2024-08-22 14:57:19,439 - INFO - \n",
      "  | Name                     | Type               | Params | In sizes         | Out sizes\n",
      "-----------------------------------------------------------------------------------------------\n",
      "0 | model                    | AlexNet            | 61.1 M | [1, 3, 224, 224] | [1, 1000]\n",
      "1 | classification_criterion | CrossEntropyLoss   | 0      | ?                | ?        \n",
      "2 | accuracy                 | MulticlassAccuracy | 0      | ?                | ?        \n",
      "-----------------------------------------------------------------------------------------------\n",
      "61.1 M    Trainable params\n",
      "0         Non-trainable params\n",
      "61.1 M    Total params\n",
      "244.403   Total estimated model params size (MB)\n"
     ]
    },
    {
     "data": {
      "application/vnd.jupyter.widget-view+json": {
       "model_id": "",
       "version_major": 2,
       "version_minor": 0
      },
      "text/plain": [
       "Sanity Checking: |          | 0/? [00:00<?, ?it/s]"
      ]
     },
     "metadata": {},
     "output_type": "display_data"
    },
    {
     "data": {
      "application/vnd.jupyter.widget-view+json": {
       "model_id": "3bbaf4acc5e6414fb2aaa56f27eadfdc",
       "version_major": 2,
       "version_minor": 0
      },
      "text/plain": [
       "Training: |          | 0/? [00:00<?, ?it/s]"
      ]
     },
     "metadata": {},
     "output_type": "display_data"
    },
    {
     "data": {
      "application/vnd.jupyter.widget-view+json": {
       "model_id": "",
       "version_major": 2,
       "version_minor": 0
      },
      "text/plain": [
       "Validation: |          | 0/? [00:00<?, ?it/s]"
      ]
     },
     "metadata": {},
     "output_type": "display_data"
    },
    {
     "data": {
      "application/vnd.jupyter.widget-view+json": {
       "model_id": "",
       "version_major": 2,
       "version_minor": 0
      },
      "text/plain": [
       "Validation: |          | 0/? [00:00<?, ?it/s]"
      ]
     },
     "metadata": {},
     "output_type": "display_data"
    },
    {
     "data": {
      "application/vnd.jupyter.widget-view+json": {
       "model_id": "",
       "version_major": 2,
       "version_minor": 0
      },
      "text/plain": [
       "Validation: |          | 0/? [00:00<?, ?it/s]"
      ]
     },
     "metadata": {},
     "output_type": "display_data"
    },
    {
     "data": {
      "application/vnd.jupyter.widget-view+json": {
       "model_id": "",
       "version_major": 2,
       "version_minor": 0
      },
      "text/plain": [
       "Validation: |          | 0/? [00:00<?, ?it/s]"
      ]
     },
     "metadata": {},
     "output_type": "display_data"
    },
    {
     "data": {
      "application/vnd.jupyter.widget-view+json": {
       "model_id": "",
       "version_major": 2,
       "version_minor": 0
      },
      "text/plain": [
       "Validation: |          | 0/? [00:00<?, ?it/s]"
      ]
     },
     "metadata": {},
     "output_type": "display_data"
    },
    {
     "data": {
      "application/vnd.jupyter.widget-view+json": {
       "model_id": "",
       "version_major": 2,
       "version_minor": 0
      },
      "text/plain": [
       "Validation: |          | 0/? [00:00<?, ?it/s]"
      ]
     },
     "metadata": {},
     "output_type": "display_data"
    },
    {
     "data": {
      "application/vnd.jupyter.widget-view+json": {
       "model_id": "",
       "version_major": 2,
       "version_minor": 0
      },
      "text/plain": [
       "Validation: |          | 0/? [00:00<?, ?it/s]"
      ]
     },
     "metadata": {},
     "output_type": "display_data"
    },
    {
     "data": {
      "application/vnd.jupyter.widget-view+json": {
       "model_id": "",
       "version_major": 2,
       "version_minor": 0
      },
      "text/plain": [
       "Validation: |          | 0/? [00:00<?, ?it/s]"
      ]
     },
     "metadata": {},
     "output_type": "display_data"
    },
    {
     "data": {
      "application/vnd.jupyter.widget-view+json": {
       "model_id": "",
       "version_major": 2,
       "version_minor": 0
      },
      "text/plain": [
       "Validation: |          | 0/? [00:00<?, ?it/s]"
      ]
     },
     "metadata": {},
     "output_type": "display_data"
    },
    {
     "name": "stderr",
     "output_type": "stream",
     "text": [
      "Exception ignored in: <function tqdm.__del__ at 0x14751e253c40>\n",
      "Traceback (most recent call last):\n",
      "  File \"/localscratch/soroush1.33912950.0/env/lib/python3.11/site-packages/tqdm/std.py\", line 1147, in __del__\n",
      "    def __del__(self):\n",
      "\n",
      "KeyboardInterrupt: \n"
     ]
    },
    {
     "data": {
      "application/vnd.jupyter.widget-view+json": {
       "model_id": "",
       "version_major": 2,
       "version_minor": 0
      },
      "text/plain": [
       "Validation: |          | 0/? [00:00<?, ?it/s]"
      ]
     },
     "metadata": {},
     "output_type": "display_data"
    },
    {
     "name": "stderr",
     "output_type": "stream",
     "text": [
      "/localscratch/soroush1.33912950.0/env/lib/python3.11/site-packages/lightning/pytorch/trainer/call.py:54: Detected KeyboardInterrupt, attempting graceful shutdown...\n"
     ]
    }
   ],
   "source": [
    "trainer.fit(model, train_dataloaders=dl, val_dataloaders=val_dl)"
   ]
  },
  {
   "cell_type": "code",
   "execution_count": null,
   "id": "230dda7e-b8d5-4001-b5ed-f659ba58ceb8",
   "metadata": {},
   "outputs": [],
   "source": []
  }
 ],
 "metadata": {
  "kernelspec": {
   "display_name": "Python 3 (ipykernel)",
   "language": "python",
   "name": "python3"
  },
  "language_info": {
   "codemirror_mode": {
    "name": "ipython",
    "version": 3
   },
   "file_extension": ".py",
   "mimetype": "text/x-python",
   "name": "python",
   "nbconvert_exporter": "python",
   "pygments_lexer": "ipython3",
   "version": "3.11.5"
  }
 },
 "nbformat": 4,
 "nbformat_minor": 5
}
